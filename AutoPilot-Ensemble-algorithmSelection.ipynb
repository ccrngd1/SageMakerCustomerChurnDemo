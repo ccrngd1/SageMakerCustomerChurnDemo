{
 "cells": [
  {
   "cell_type": "markdown",
   "metadata": {},
   "source": [
    "# AutoPilot Ensemble example notebook for KAGGLE customer churn data sample set\n",
    "We are using https://www.kaggle.com/c/customer-churn-prediction-2020 as the data set for this example, we assume this data set has been loaded into s3 buckets and no feature engineering has been done\n",
    "\n",
    "## Initial Set up of environment"
   ]
  },
  {
   "cell_type": "code",
   "execution_count": 2,
   "metadata": {
    "tags": []
   },
   "outputs": [
    {
     "name": "stdout",
     "output_type": "stream",
     "text": [
      "arn:aws:iam::791580863750:role/service-role/AmazonSageMaker-ExecutionRole-20220707T123330\n"
     ]
    }
   ],
   "source": [
    "import sagemaker\n",
    "import boto3\n",
    "from sagemaker import get_execution_role\n",
    "import pandas as pd\n",
    "\n",
    "region = boto3.Session().region_name\n",
    "\n",
    "session = sagemaker.Session()\n",
    "bucket = 'lawsnic-aiml-east2'\n",
    "prefix = 'kaggle/customerChurn'\n",
    "\n",
    "role = get_execution_role()\n",
    "\n",
    "sm = boto3.Session().client(service_name='sagemaker',region_name=region)\n",
    "s3 =  boto3.Session().client(service_name='s3',region_name=region)\n",
    "\n",
    "train_data_uri = 's3://lawsnic-aiml-east2/kaggle/customerChurn/features/partial/train/CustomerChurnDW-2023-01-06T14-14-13/part-00000-642a0746-49b9-4fda-ad2d-98afe1db11ec-c000.csv'\n",
    "test_data_uri = 's3://lawsnic-aiml-east2/kaggle/customerChurn/features/partial/test/CustomerChurnDW-2023-01-06T14-14-13/part-00000-ccd6e4dd-898c-4fc4-a63a-85d1cfcfc4dc-c000.csv'\n",
    "test_data_uri_with_target = 's3://lawsnic-aiml-east2/kaggle/customerChurn/clarify/test_with_target.csv'\n",
    "\n",
    "train_data = pd.read_csv(train_data_uri);\n",
    "test_data = pd.read_csv(test_data_uri);\n",
    "\n",
    "train_data[\"SeniorCitizen\"] = train_data[\"SeniorCitizen\"].astype(int)\n",
    "train_data[\"Churn\"] = train_data[\"Churn\"].astype(int)\n",
    "train_data[\"Partner\"] = train_data[\"Partner\"].astype(int)\n",
    "train_data[\"Dependents\"] = train_data[\"Dependents\"].astype(int)\n",
    "train_data[\"PhoneService\"] = train_data[\"PhoneService\"].astype(int)\n",
    "train_data[\"PaperlessBilling\"] = train_data[\"PaperlessBilling\"].astype(int) \n",
    "train_data_uri = 's3://lawsnic-aiml-east2/kaggle/customerChurn/clarify/train.csv'\n",
    "train_data.to_csv(train_data_uri,index=False)\n",
    "\n",
    "test_data[\"SeniorCitizen\"] = test_data[\"SeniorCitizen\"].astype(int)\n",
    "test_data[\"Churn\"] = test_data[\"Churn\"].astype(int)\n",
    "test_data[\"Partner\"] = test_data[\"Partner\"].astype(int)\n",
    "test_data[\"Dependents\"] = test_data[\"Dependents\"].astype(int)\n",
    "test_data[\"PhoneService\"] = test_data[\"PhoneService\"].astype(int)\n",
    "test_data[\"PaperlessBilling\"] = test_data[\"PaperlessBilling\"].astype(int) \n",
    "test_data.to_csv('s3://lawsnic-aiml-east2/kaggle/customerChurn/clarify/test_with_target.csv',index=False)\n",
    "\n",
    "test_data2 =test_data.drop([\"Churn\"], axis=1)\n",
    "\n",
    "test_data_uri = 's3://lawsnic-aiml-east2/kaggle/customerChurn/clarify/test.csv'\n",
    "test_data2.to_csv(test_data_uri,index=False, header=False)\n",
    "\n",
    "\n",
    "print(role)"
   ]
  },
  {
   "cell_type": "markdown",
   "metadata": {},
   "source": [
    "## Configure AutoPilot parameters"
   ]
  },
  {
   "cell_type": "code",
   "execution_count": 3,
   "metadata": {
    "tags": []
   },
   "outputs": [],
   "source": [
    "input_data_config = [{\n",
    "      'DataSource': {\n",
    "        'S3DataSource': {\n",
    "          'S3DataType': 'S3Prefix',\n",
    "          'S3Uri': train_data_uri\n",
    "        }\n",
    "      },\n",
    "      'ChannelType': 'training',    \n",
    "      'TargetAttributeName': 'Churn'\n",
    "    }     \n",
    "  ]\n",
    "\n",
    "output_data_config = {\n",
    "    'S3OutputPath': 's3://{}/{}/manual-output/autopilot-en'.format(bucket,prefix)\n",
    "  }\n",
    "\n",
    "autoMLJobObjective = {\n",
    "    'MetricName': 'Precision'\n",
    "} \n",
    "\n",
    "test_data_s3_path = test_data_uri"
   ]
  },
  {
   "cell_type": "markdown",
   "metadata": {},
   "source": [
    "### Configure AutoPilot job \n",
    "Splitting this into it's own cell because this is where we are able to change the algorithm select for the AutoPilot job"
   ]
  },
  {
   "cell_type": "code",
   "execution_count": 4,
   "metadata": {
    "tags": []
   },
   "outputs": [],
   "source": [
    "autoMLJobConfig={\n",
    "        'CompletionCriteria': {\n",
    "            'MaxCandidates': 10\n",
    "        },\n",
    "        'Mode':'ENSEMBLING',    \n",
    "        'CandidateGenerationConfig': { \n",
    "            'AlgorithmsConfig': [ \n",
    "                { \n",
    "                   'AutoMLAlgorithms': [ \n",
    "                       'catboost' ,\n",
    "                       'fastai',\n",
    "                       'xgboost'\n",
    "                   ]\n",
    "                }\n",
    "             ],\n",
    "        }\n",
    "}"
   ]
  },
  {
   "cell_type": "markdown",
   "metadata": {},
   "source": [
    "## Launching the SageMaker Autopilot Job\n",
    "You can now launch the Autopilot job by calling the create_auto_ml_job API. https://docs.aws.amazon.com/cli/latest/reference/sagemaker/create-auto-ml-job.html"
   ]
  },
  {
   "cell_type": "code",
   "execution_count": 5,
   "metadata": {
    "tags": []
   },
   "outputs": [
    {
     "name": "stdout",
     "output_type": "stream",
     "text": [
      "AutoMLJobName: chn1678306696\n"
     ]
    },
    {
     "data": {
      "text/plain": [
       "{'AutoMLJobArn': 'arn:aws:sagemaker:us-east-2:791580863750:automl-job/chn1678306696',\n",
       " 'ResponseMetadata': {'RequestId': '427c3e3b-b346-4e2a-92d9-0a562112f8ad',\n",
       "  'HTTPStatusCode': 200,\n",
       "  'HTTPHeaders': {'x-amzn-requestid': '427c3e3b-b346-4e2a-92d9-0a562112f8ad',\n",
       "   'content-type': 'application/x-amz-json-1.1',\n",
       "   'content-length': '84',\n",
       "   'date': 'Wed, 08 Mar 2023 20:18:17 GMT'},\n",
       "  'RetryAttempts': 0}}"
      ]
     },
     "execution_count": 5,
     "metadata": {},
     "output_type": "execute_result"
    }
   ],
   "source": [
    "import time\n",
    "\n",
    "auto_ml_job_name = 'chn' + str(int(time.time()))\n",
    "print('AutoMLJobName: ' + auto_ml_job_name)\n",
    "\n",
    "sm.create_auto_ml_job(AutoMLJobName=auto_ml_job_name, \n",
    "                      InputDataConfig=input_data_config,\n",
    "                      OutputDataConfig=output_data_config,\n",
    "                      AutoMLJobConfig=autoMLJobConfig,\n",
    "                      AutoMLJobObjective=autoMLJobObjective,\n",
    "                      ProblemType=\"BinaryClassification\",\n",
    "                      RoleArn=role)"
   ]
  },
  {
   "cell_type": "markdown",
   "metadata": {},
   "source": [
    "## Tracking SageMaker Autopilot job progress<a name=\"Tracking\"></a>\n",
    "Optionally poll SageMaker API to see if job has completed.\n",
    "\n",
    "!This can be started/stopped at any time and will not affect training!\n",
    "\n",
    "SageMaker Autopilot job consists of the following high-level steps : \n",
    "* Analyzing Data, where the dataset is analyzed and Autopilot comes up with a list of ML pipelines that should be tried out on the dataset. The dataset is also split into train and validation sets.\n",
    "* Feature Engineering, where Autopilot performs feature transformation on individual features of the dataset as well as at an aggregate level.\n",
    "* Model Tuning, where the top performing pipeline is selected along with the optimal hyperparameters for the training algorithm (the last stage of the pipeline). "
   ]
  },
  {
   "cell_type": "code",
   "execution_count": 6,
   "metadata": {
    "tags": []
   },
   "outputs": [
    {
     "name": "stdout",
     "output_type": "stream",
     "text": [
      "JobStatus - Secondary Status\n",
      "------------------------------\n",
      "InProgress - Starting\n",
      "InProgress - Starting\n",
      "InProgress - TrainingModels\n",
      "InProgress - TrainingModels\n",
      "InProgress - TrainingModels\n",
      "InProgress - TrainingModels\n",
      "InProgress - TrainingModels\n",
      "InProgress - TrainingModels\n",
      "InProgress - TrainingModels\n",
      "InProgress - TrainingModels\n",
      "InProgress - TrainingModels\n",
      "InProgress - TrainingModels\n",
      "InProgress - TrainingModels\n",
      "InProgress - TrainingModels\n",
      "InProgress - TrainingModels\n",
      "InProgress - TrainingModels\n",
      "InProgress - TrainingModels\n",
      "InProgress - TrainingModels\n",
      "InProgress - TrainingModels\n",
      "InProgress - TrainingModels\n",
      "InProgress - TrainingModels\n",
      "InProgress - TrainingModels\n",
      "Completed - Completed\n"
     ]
    }
   ],
   "source": [
    "print ('JobStatus - Secondary Status')\n",
    "print('------------------------------')\n",
    "\n",
    "\n",
    "describe_response = sm.describe_auto_ml_job(AutoMLJobName=auto_ml_job_name)\n",
    "print (describe_response['AutoMLJobStatus'] + \" - \" + describe_response['AutoMLJobSecondaryStatus'])\n",
    "job_run_status = describe_response['AutoMLJobStatus']\n",
    "    \n",
    "while job_run_status not in ('Failed', 'Completed', 'Stopped'):\n",
    "    describe_response = sm.describe_auto_ml_job(AutoMLJobName=auto_ml_job_name)\n",
    "    job_run_status = describe_response['AutoMLJobStatus']\n",
    "    \n",
    "    print (describe_response['AutoMLJobStatus'] + \" - \" + describe_response['AutoMLJobSecondaryStatus'])\n",
    "    time.sleep(30)"
   ]
  },
  {
   "cell_type": "markdown",
   "metadata": {},
   "source": [
    "## Results\n",
    "\n",
    "Now use the describe_auto_ml_job API to look up the best candidate selected by the SageMaker Autopilot job. "
   ]
  },
  {
   "cell_type": "code",
   "execution_count": 7,
   "metadata": {
    "tags": []
   },
   "outputs": [
    {
     "data": {
      "text/plain": [
       "{'AutoMLJobName': 'chn1678306696',\n",
       " 'AutoMLJobArn': 'arn:aws:sagemaker:us-east-2:791580863750:automl-job/chn1678306696',\n",
       " 'InputDataConfig': [{'DataSource': {'S3DataSource': {'S3DataType': 'S3Prefix',\n",
       "     'S3Uri': 's3://lawsnic-aiml-east2/kaggle/customerChurn/clarify/train.csv'}},\n",
       "   'TargetAttributeName': 'Churn',\n",
       "   'ContentType': 'text/csv;header=present',\n",
       "   'ChannelType': 'training'}],\n",
       " 'OutputDataConfig': {'S3OutputPath': 's3://lawsnic-aiml-east2/kaggle/customerChurn/manual-output/autopilot-en'},\n",
       " 'RoleArn': 'arn:aws:iam::791580863750:role/service-role/AmazonSageMaker-ExecutionRole-20220707T123330',\n",
       " 'AutoMLJobObjective': {'MetricName': 'Precision'},\n",
       " 'ProblemType': 'BinaryClassification',\n",
       " 'AutoMLJobConfig': {'CompletionCriteria': {'MaxCandidates': 10},\n",
       "  'CandidateGenerationConfig': {'AlgorithmsConfig': [{'AutoMLAlgorithms': ['catboost',\n",
       "      'fastai',\n",
       "      'xgboost']}]},\n",
       "  'Mode': 'ENSEMBLING'},\n",
       " 'CreationTime': datetime.datetime(2023, 3, 8, 20, 18, 17, 126000, tzinfo=tzlocal()),\n",
       " 'EndTime': datetime.datetime(2023, 3, 8, 20, 28, 34, 90000, tzinfo=tzlocal()),\n",
       " 'LastModifiedTime': datetime.datetime(2023, 3, 8, 20, 28, 34, 115000, tzinfo=tzlocal()),\n",
       " 'BestCandidate': {'CandidateName': 'WeightedEnsemble-L3-FULL-t4791580863750chn1678306696',\n",
       "  'FinalAutoMLJobObjectiveMetric': {'Type': 'Maximize',\n",
       "   'MetricName': 'Precision',\n",
       "   'Value': 0.7088607549667358,\n",
       "   'StandardMetricName': 'Precision'},\n",
       "  'ObjectiveStatus': 'Succeeded',\n",
       "  'CandidateSteps': [{'CandidateStepType': 'AWS::SageMaker::ProcessingJob',\n",
       "    'CandidateStepArn': 'arn:aws:sagemaker:us-east-2:791580863750:processing-job/chn1678306696-t4-1-61c6877eb9d2489f85931c14ae2e3e485b5518ebcb62',\n",
       "    'CandidateStepName': 'chn1678306696-t4-1-61c6877eb9d2489f85931c14ae2e3e485b5518ebcb62'}],\n",
       "  'CandidateStatus': 'Completed',\n",
       "  'InferenceContainers': [{'Image': '763104351884.dkr.ecr.us-east-2.amazonaws.com/autogluon-inference:0.4.3-cpu-py38-ubuntu20.04',\n",
       "    'ModelDataUrl': 's3://lawsnic-aiml-east2/kaggle/customerChurn/manual-output/autopilot-en/chn1678306696/sagemaker-automl-candidates/model/WeightedEnsemble-L3-FULL-t4/model.tar.gz',\n",
       "    'Environment': {'MODEL_NAME': 'WeightedEnsemble-L3-FULL',\n",
       "     'SAGEMAKER_DEFAULT_INVOCATIONS_ACCEPT': 'text/csv',\n",
       "     'SAGEMAKER_INFERENCE_OUTPUT': 'predicted_label',\n",
       "     'SAGEMAKER_INFERENCE_SUPPORTED': 'predicted_label,probability,probabilities,labels',\n",
       "     'SAGEMAKER_PROGRAM': 'tabular_serve.py',\n",
       "     'SAGEMAKER_SUBMIT_DIRECTORY': '/opt/ml/model/code'}}],\n",
       "  'CreationTime': datetime.datetime(2023, 3, 8, 20, 18, 27, tzinfo=tzlocal()),\n",
       "  'EndTime': datetime.datetime(2023, 3, 8, 20, 28, 25, tzinfo=tzlocal()),\n",
       "  'LastModifiedTime': datetime.datetime(2023, 3, 8, 20, 28, 33, 116000, tzinfo=tzlocal()),\n",
       "  'CandidateProperties': {'CandidateArtifactLocations': {'Explainability': 's3://lawsnic-aiml-east2/kaggle/customerChurn/manual-output/autopilot-en/chn1678306696/documentation/explainability/output/chn1678306696-t4-1-61c6877eb9d2489f85931c14ae2e3e485b5518ebcb62',\n",
       "    'ModelInsights': 's3://lawsnic-aiml-east2/kaggle/customerChurn/manual-output/autopilot-en/chn1678306696/documentation/model_monitor/output/WeightedEnsemble-L3-FULL-t4791580863750chn1678306696'},\n",
       "   'CandidateMetrics': [{'MetricName': 'Accuracy',\n",
       "     'Value': 0.8107255697250366,\n",
       "     'Set': 'Validation',\n",
       "     'StandardMetricName': 'Accuracy'},\n",
       "    {'MetricName': 'F1',\n",
       "     'Value': 0.5833333134651184,\n",
       "     'Set': 'Validation',\n",
       "     'StandardMetricName': 'F1'},\n",
       "    {'MetricName': 'BalancedAccuracy',\n",
       "     'Value': 0.7106509208679199,\n",
       "     'Set': 'Validation',\n",
       "     'StandardMetricName': 'BalancedAccuracy'},\n",
       "    {'MetricName': 'AUC',\n",
       "     'Value': 0.8520818948745728,\n",
       "     'Set': 'Validation',\n",
       "     'StandardMetricName': 'AUC'},\n",
       "    {'MetricName': 'Precision',\n",
       "     'Value': 0.7088607549667358,\n",
       "     'Set': 'Validation',\n",
       "     'StandardMetricName': 'Precision'},\n",
       "    {'MetricName': 'Recall',\n",
       "     'Value': 0.4955752193927765,\n",
       "     'Set': 'Validation',\n",
       "     'StandardMetricName': 'Recall'},\n",
       "    {'MetricName': 'LogLoss',\n",
       "     'Value': 0.4095333516597748,\n",
       "     'Set': 'Validation',\n",
       "     'StandardMetricName': 'LogLoss'},\n",
       "    {'MetricName': 'InferenceLatency',\n",
       "     'Value': 0.2012554556131363,\n",
       "     'Set': 'Validation',\n",
       "     'StandardMetricName': 'InferenceLatency'}]}},\n",
       " 'AutoMLJobStatus': 'Completed',\n",
       " 'AutoMLJobSecondaryStatus': 'Completed',\n",
       " 'GenerateCandidateDefinitionsOnly': False,\n",
       " 'AutoMLJobArtifacts': {'DataExplorationNotebookLocation': 's3://lawsnic-aiml-east2/kaggle/customerChurn/manual-output/autopilot-en/chn1678306696/sagemaker-automl-candidates/notebooks/SageMakerAutopilotDataExplorationNotebook.ipynb'},\n",
       " 'ResolvedAttributes': {'AutoMLJobObjective': {'MetricName': 'Precision'},\n",
       "  'ProblemType': 'BinaryClassification'},\n",
       " 'ResponseMetadata': {'RequestId': 'f71a6ad3-81a3-455b-8128-71bbd6e3736f',\n",
       "  'HTTPStatusCode': 200,\n",
       "  'HTTPHeaders': {'x-amzn-requestid': 'f71a6ad3-81a3-455b-8128-71bbd6e3736f',\n",
       "   'content-type': 'application/x-amz-json-1.1',\n",
       "   'content-length': '4075',\n",
       "   'date': 'Wed, 08 Mar 2023 20:29:21 GMT'},\n",
       "  'RetryAttempts': 0}}"
      ]
     },
     "execution_count": 7,
     "metadata": {},
     "output_type": "execute_result"
    }
   ],
   "source": [
    "sm.describe_auto_ml_job(AutoMLJobName=auto_ml_job_name)"
   ]
  },
  {
   "cell_type": "code",
   "execution_count": 7,
   "metadata": {},
   "outputs": [
    {
     "name": "stdout",
     "output_type": "stream",
     "text": [
      "\n",
      "\n",
      "CandidateName: WeightedEnsemble-L2-FULL-t1791580863750chn1677611865\n",
      "FinalAutoMLJobObjectiveMetricName: Precision\n",
      "FinalAutoMLJobObjectiveMetricValue: 0.7345971465110779\n"
     ]
    }
   ],
   "source": [
    "best_candidate = sm.describe_auto_ml_job(AutoMLJobName=auto_ml_job_name)['BestCandidate']\n",
    "best_candidate_name = best_candidate['CandidateName']\n",
    "#print(best_candidate)\n",
    "print('\\n')\n",
    "print(\"CandidateName: \" + best_candidate_name)\n",
    "print(\"FinalAutoMLJobObjectiveMetricName: \" + best_candidate['FinalAutoMLJobObjectiveMetric']['MetricName'])\n",
    "print(\"FinalAutoMLJobObjectiveMetricValue: \" + str(best_candidate['FinalAutoMLJobObjectiveMetric']['Value']))"
   ]
  },
  {
   "cell_type": "code",
   "execution_count": 19,
   "metadata": {},
   "outputs": [
    {
     "data": {
      "text/plain": [
       "{'CandidateName': 'WeightedEnsemble-L2-FULL-t1791580863750chn1677611865',\n",
       " 'FinalAutoMLJobObjectiveMetric': {'Type': 'Maximize',\n",
       "  'MetricName': 'Precision',\n",
       "  'Value': 0.7345971465110779,\n",
       "  'StandardMetricName': 'Precision'},\n",
       " 'ObjectiveStatus': 'Succeeded',\n",
       " 'CandidateSteps': [{'CandidateStepType': 'AWS::SageMaker::ProcessingJob',\n",
       "   'CandidateStepArn': 'arn:aws:sagemaker:us-east-2:791580863750:processing-job/chn1677611865-t1-1-ce6f3883c79a4556932c9cf8258d42a6bba35543204a',\n",
       "   'CandidateStepName': 'chn1677611865-t1-1-ce6f3883c79a4556932c9cf8258d42a6bba35543204a'}],\n",
       " 'CandidateStatus': 'Completed',\n",
       " 'InferenceContainers': [{'Image': '763104351884.dkr.ecr.us-east-2.amazonaws.com/autogluon-inference:0.4.3-cpu-py38-ubuntu20.04',\n",
       "   'ModelDataUrl': 's3://lawsnic-aiml-east2/kaggle/customerChurn/manual-output/autopilot-en/chn1677611865/sagemaker-automl-candidates/model/WeightedEnsemble-L2-FULL-t1/model.tar.gz',\n",
       "   'Environment': {'MODEL_NAME': 'WeightedEnsemble-L2-FULL',\n",
       "    'SAGEMAKER_DEFAULT_INVOCATIONS_ACCEPT': 'text/csv',\n",
       "    'SAGEMAKER_INFERENCE_OUTPUT': 'predicted_label',\n",
       "    'SAGEMAKER_INFERENCE_SUPPORTED': 'predicted_label,probability,probabilities,labels',\n",
       "    'SAGEMAKER_PROGRAM': 'tabular_serve.py',\n",
       "    'SAGEMAKER_SUBMIT_DIRECTORY': '/opt/ml/model/code'}}],\n",
       " 'CreationTime': datetime.datetime(2023, 2, 28, 19, 18, 15, tzinfo=tzlocal()),\n",
       " 'EndTime': datetime.datetime(2023, 2, 28, 19, 33, 25, tzinfo=tzlocal()),\n",
       " 'LastModifiedTime': datetime.datetime(2023, 2, 28, 19, 33, 35, 693000, tzinfo=tzlocal()),\n",
       " 'CandidateProperties': {'CandidateArtifactLocations': {'Explainability': 's3://lawsnic-aiml-east2/kaggle/customerChurn/manual-output/autopilot-en/chn1677611865/documentation/explainability/output/chn1677611865-t1-1-ce6f3883c79a4556932c9cf8258d42a6bba35543204a',\n",
       "   'ModelInsights': 's3://lawsnic-aiml-east2/kaggle/customerChurn/manual-output/autopilot-en/chn1677611865/documentation/model_monitor/output/WeightedEnsemble-L2-FULL-t1791580863750chn1677611865'},\n",
       "  'CandidateMetrics': [{'MetricName': 'Accuracy',\n",
       "    'Value': 0.8107255697250366,\n",
       "    'Set': 'Validation',\n",
       "    'StandardMetricName': 'Accuracy'},\n",
       "   {'MetricName': 'F1',\n",
       "    'Value': 0.5636363625526428,\n",
       "    'Set': 'Validation',\n",
       "    'StandardMetricName': 'F1'},\n",
       "   {'MetricName': 'BalancedAccuracy',\n",
       "    'Value': 0.6984736323356628,\n",
       "    'Set': 'Validation',\n",
       "    'StandardMetricName': 'BalancedAccuracy'},\n",
       "   {'MetricName': 'AUC',\n",
       "    'Value': 0.8542855381965637,\n",
       "    'Set': 'Validation',\n",
       "    'StandardMetricName': 'AUC'},\n",
       "   {'MetricName': 'Precision',\n",
       "    'Value': 0.7345971465110779,\n",
       "    'Set': 'Validation',\n",
       "    'StandardMetricName': 'Precision'},\n",
       "   {'MetricName': 'Recall',\n",
       "    'Value': 0.4572271406650543,\n",
       "    'Set': 'Validation',\n",
       "    'StandardMetricName': 'Recall'},\n",
       "   {'MetricName': 'LogLoss',\n",
       "    'Value': 0.41862526535987854,\n",
       "    'Set': 'Validation',\n",
       "    'StandardMetricName': 'LogLoss'},\n",
       "   {'MetricName': 'InferenceLatency',\n",
       "    'Value': 0.2365294247865677,\n",
       "    'Set': 'Validation',\n",
       "    'StandardMetricName': 'InferenceLatency'}]}}"
      ]
     },
     "execution_count": 19,
     "metadata": {},
     "output_type": "execute_result"
    }
   ],
   "source": [
    "best_candidate"
   ]
  }
 ],
 "metadata": {
  "availableInstances": [
   {
    "_defaultOrder": 0,
    "_isFastLaunch": true,
    "category": "General purpose",
    "gpuNum": 0,
    "memoryGiB": 4,
    "name": "ml.t3.medium",
    "vcpuNum": 2
   },
   {
    "_defaultOrder": 1,
    "_isFastLaunch": false,
    "category": "General purpose",
    "gpuNum": 0,
    "memoryGiB": 8,
    "name": "ml.t3.large",
    "vcpuNum": 2
   },
   {
    "_defaultOrder": 2,
    "_isFastLaunch": false,
    "category": "General purpose",
    "gpuNum": 0,
    "memoryGiB": 16,
    "name": "ml.t3.xlarge",
    "vcpuNum": 4
   },
   {
    "_defaultOrder": 3,
    "_isFastLaunch": false,
    "category": "General purpose",
    "gpuNum": 0,
    "memoryGiB": 32,
    "name": "ml.t3.2xlarge",
    "vcpuNum": 8
   },
   {
    "_defaultOrder": 4,
    "_isFastLaunch": true,
    "category": "General purpose",
    "gpuNum": 0,
    "memoryGiB": 8,
    "name": "ml.m5.large",
    "vcpuNum": 2
   },
   {
    "_defaultOrder": 5,
    "_isFastLaunch": false,
    "category": "General purpose",
    "gpuNum": 0,
    "memoryGiB": 16,
    "name": "ml.m5.xlarge",
    "vcpuNum": 4
   },
   {
    "_defaultOrder": 6,
    "_isFastLaunch": false,
    "category": "General purpose",
    "gpuNum": 0,
    "memoryGiB": 32,
    "name": "ml.m5.2xlarge",
    "vcpuNum": 8
   },
   {
    "_defaultOrder": 7,
    "_isFastLaunch": false,
    "category": "General purpose",
    "gpuNum": 0,
    "memoryGiB": 64,
    "name": "ml.m5.4xlarge",
    "vcpuNum": 16
   },
   {
    "_defaultOrder": 8,
    "_isFastLaunch": false,
    "category": "General purpose",
    "gpuNum": 0,
    "memoryGiB": 128,
    "name": "ml.m5.8xlarge",
    "vcpuNum": 32
   },
   {
    "_defaultOrder": 9,
    "_isFastLaunch": false,
    "category": "General purpose",
    "gpuNum": 0,
    "memoryGiB": 192,
    "name": "ml.m5.12xlarge",
    "vcpuNum": 48
   },
   {
    "_defaultOrder": 10,
    "_isFastLaunch": false,
    "category": "General purpose",
    "gpuNum": 0,
    "memoryGiB": 256,
    "name": "ml.m5.16xlarge",
    "vcpuNum": 64
   },
   {
    "_defaultOrder": 11,
    "_isFastLaunch": false,
    "category": "General purpose",
    "gpuNum": 0,
    "memoryGiB": 384,
    "name": "ml.m5.24xlarge",
    "vcpuNum": 96
   },
   {
    "_defaultOrder": 12,
    "_isFastLaunch": false,
    "category": "General purpose",
    "gpuNum": 0,
    "memoryGiB": 8,
    "name": "ml.m5d.large",
    "vcpuNum": 2
   },
   {
    "_defaultOrder": 13,
    "_isFastLaunch": false,
    "category": "General purpose",
    "gpuNum": 0,
    "memoryGiB": 16,
    "name": "ml.m5d.xlarge",
    "vcpuNum": 4
   },
   {
    "_defaultOrder": 14,
    "_isFastLaunch": false,
    "category": "General purpose",
    "gpuNum": 0,
    "memoryGiB": 32,
    "name": "ml.m5d.2xlarge",
    "vcpuNum": 8
   },
   {
    "_defaultOrder": 15,
    "_isFastLaunch": false,
    "category": "General purpose",
    "gpuNum": 0,
    "memoryGiB": 64,
    "name": "ml.m5d.4xlarge",
    "vcpuNum": 16
   },
   {
    "_defaultOrder": 16,
    "_isFastLaunch": false,
    "category": "General purpose",
    "gpuNum": 0,
    "memoryGiB": 128,
    "name": "ml.m5d.8xlarge",
    "vcpuNum": 32
   },
   {
    "_defaultOrder": 17,
    "_isFastLaunch": false,
    "category": "General purpose",
    "gpuNum": 0,
    "memoryGiB": 192,
    "name": "ml.m5d.12xlarge",
    "vcpuNum": 48
   },
   {
    "_defaultOrder": 18,
    "_isFastLaunch": false,
    "category": "General purpose",
    "gpuNum": 0,
    "memoryGiB": 256,
    "name": "ml.m5d.16xlarge",
    "vcpuNum": 64
   },
   {
    "_defaultOrder": 19,
    "_isFastLaunch": false,
    "category": "General purpose",
    "gpuNum": 0,
    "memoryGiB": 384,
    "name": "ml.m5d.24xlarge",
    "vcpuNum": 96
   },
   {
    "_defaultOrder": 20,
    "_isFastLaunch": true,
    "category": "Compute optimized",
    "gpuNum": 0,
    "memoryGiB": 4,
    "name": "ml.c5.large",
    "vcpuNum": 2
   },
   {
    "_defaultOrder": 21,
    "_isFastLaunch": false,
    "category": "Compute optimized",
    "gpuNum": 0,
    "memoryGiB": 8,
    "name": "ml.c5.xlarge",
    "vcpuNum": 4
   },
   {
    "_defaultOrder": 22,
    "_isFastLaunch": false,
    "category": "Compute optimized",
    "gpuNum": 0,
    "memoryGiB": 16,
    "name": "ml.c5.2xlarge",
    "vcpuNum": 8
   },
   {
    "_defaultOrder": 23,
    "_isFastLaunch": false,
    "category": "Compute optimized",
    "gpuNum": 0,
    "memoryGiB": 32,
    "name": "ml.c5.4xlarge",
    "vcpuNum": 16
   },
   {
    "_defaultOrder": 24,
    "_isFastLaunch": false,
    "category": "Compute optimized",
    "gpuNum": 0,
    "memoryGiB": 72,
    "name": "ml.c5.9xlarge",
    "vcpuNum": 36
   },
   {
    "_defaultOrder": 25,
    "_isFastLaunch": false,
    "category": "Compute optimized",
    "gpuNum": 0,
    "memoryGiB": 96,
    "name": "ml.c5.12xlarge",
    "vcpuNum": 48
   },
   {
    "_defaultOrder": 26,
    "_isFastLaunch": false,
    "category": "Compute optimized",
    "gpuNum": 0,
    "memoryGiB": 144,
    "name": "ml.c5.18xlarge",
    "vcpuNum": 72
   },
   {
    "_defaultOrder": 27,
    "_isFastLaunch": false,
    "category": "Compute optimized",
    "gpuNum": 0,
    "memoryGiB": 192,
    "name": "ml.c5.24xlarge",
    "vcpuNum": 96
   },
   {
    "_defaultOrder": 28,
    "_isFastLaunch": true,
    "category": "Accelerated computing",
    "gpuNum": 1,
    "memoryGiB": 16,
    "name": "ml.g4dn.xlarge",
    "vcpuNum": 4
   },
   {
    "_defaultOrder": 29,
    "_isFastLaunch": false,
    "category": "Accelerated computing",
    "gpuNum": 1,
    "memoryGiB": 32,
    "name": "ml.g4dn.2xlarge",
    "vcpuNum": 8
   },
   {
    "_defaultOrder": 30,
    "_isFastLaunch": false,
    "category": "Accelerated computing",
    "gpuNum": 1,
    "memoryGiB": 64,
    "name": "ml.g4dn.4xlarge",
    "vcpuNum": 16
   },
   {
    "_defaultOrder": 31,
    "_isFastLaunch": false,
    "category": "Accelerated computing",
    "gpuNum": 1,
    "memoryGiB": 128,
    "name": "ml.g4dn.8xlarge",
    "vcpuNum": 32
   },
   {
    "_defaultOrder": 32,
    "_isFastLaunch": false,
    "category": "Accelerated computing",
    "gpuNum": 4,
    "memoryGiB": 192,
    "name": "ml.g4dn.12xlarge",
    "vcpuNum": 48
   },
   {
    "_defaultOrder": 33,
    "_isFastLaunch": false,
    "category": "Accelerated computing",
    "gpuNum": 1,
    "memoryGiB": 256,
    "name": "ml.g4dn.16xlarge",
    "vcpuNum": 64
   },
   {
    "_defaultOrder": 34,
    "_isFastLaunch": false,
    "category": "Accelerated computing",
    "gpuNum": 1,
    "memoryGiB": 61,
    "name": "ml.p3.2xlarge",
    "vcpuNum": 8
   },
   {
    "_defaultOrder": 35,
    "_isFastLaunch": false,
    "category": "Accelerated computing",
    "gpuNum": 4,
    "memoryGiB": 244,
    "name": "ml.p3.8xlarge",
    "vcpuNum": 32
   },
   {
    "_defaultOrder": 36,
    "_isFastLaunch": false,
    "category": "Accelerated computing",
    "gpuNum": 8,
    "memoryGiB": 488,
    "name": "ml.p3.16xlarge",
    "vcpuNum": 64
   },
   {
    "_defaultOrder": 37,
    "_isFastLaunch": false,
    "category": "Accelerated computing",
    "gpuNum": 8,
    "memoryGiB": 768,
    "name": "ml.p3dn.24xlarge",
    "vcpuNum": 96
   },
   {
    "_defaultOrder": 38,
    "_isFastLaunch": false,
    "category": "Memory Optimized",
    "gpuNum": 0,
    "memoryGiB": 16,
    "name": "ml.r5.large",
    "vcpuNum": 2
   },
   {
    "_defaultOrder": 39,
    "_isFastLaunch": false,
    "category": "Memory Optimized",
    "gpuNum": 0,
    "memoryGiB": 32,
    "name": "ml.r5.xlarge",
    "vcpuNum": 4
   },
   {
    "_defaultOrder": 40,
    "_isFastLaunch": false,
    "category": "Memory Optimized",
    "gpuNum": 0,
    "memoryGiB": 64,
    "name": "ml.r5.2xlarge",
    "vcpuNum": 8
   },
   {
    "_defaultOrder": 41,
    "_isFastLaunch": false,
    "category": "Memory Optimized",
    "gpuNum": 0,
    "memoryGiB": 128,
    "name": "ml.r5.4xlarge",
    "vcpuNum": 16
   },
   {
    "_defaultOrder": 42,
    "_isFastLaunch": false,
    "category": "Memory Optimized",
    "gpuNum": 0,
    "memoryGiB": 256,
    "name": "ml.r5.8xlarge",
    "vcpuNum": 32
   },
   {
    "_defaultOrder": 43,
    "_isFastLaunch": false,
    "category": "Memory Optimized",
    "gpuNum": 0,
    "memoryGiB": 384,
    "name": "ml.r5.12xlarge",
    "vcpuNum": 48
   },
   {
    "_defaultOrder": 44,
    "_isFastLaunch": false,
    "category": "Memory Optimized",
    "gpuNum": 0,
    "memoryGiB": 512,
    "name": "ml.r5.16xlarge",
    "vcpuNum": 64
   },
   {
    "_defaultOrder": 45,
    "_isFastLaunch": false,
    "category": "Memory Optimized",
    "gpuNum": 0,
    "memoryGiB": 768,
    "name": "ml.r5.24xlarge",
    "vcpuNum": 96
   },
   {
    "_defaultOrder": 46,
    "_isFastLaunch": false,
    "category": "Accelerated computing",
    "gpuNum": 1,
    "memoryGiB": 16,
    "name": "ml.g5.xlarge",
    "vcpuNum": 4
   },
   {
    "_defaultOrder": 47,
    "_isFastLaunch": false,
    "category": "Accelerated computing",
    "gpuNum": 1,
    "memoryGiB": 32,
    "name": "ml.g5.2xlarge",
    "vcpuNum": 8
   },
   {
    "_defaultOrder": 48,
    "_isFastLaunch": false,
    "category": "Accelerated computing",
    "gpuNum": 1,
    "memoryGiB": 64,
    "name": "ml.g5.4xlarge",
    "vcpuNum": 16
   },
   {
    "_defaultOrder": 49,
    "_isFastLaunch": false,
    "category": "Accelerated computing",
    "gpuNum": 1,
    "memoryGiB": 128,
    "name": "ml.g5.8xlarge",
    "vcpuNum": 32
   },
   {
    "_defaultOrder": 50,
    "_isFastLaunch": false,
    "category": "Accelerated computing",
    "gpuNum": 1,
    "memoryGiB": 256,
    "name": "ml.g5.16xlarge",
    "vcpuNum": 64
   },
   {
    "_defaultOrder": 51,
    "_isFastLaunch": false,
    "category": "Accelerated computing",
    "gpuNum": 4,
    "memoryGiB": 192,
    "name": "ml.g5.12xlarge",
    "vcpuNum": 48
   },
   {
    "_defaultOrder": 52,
    "_isFastLaunch": false,
    "category": "Accelerated computing",
    "gpuNum": 4,
    "memoryGiB": 384,
    "name": "ml.g5.24xlarge",
    "vcpuNum": 96
   },
   {
    "_defaultOrder": 53,
    "_isFastLaunch": false,
    "category": "Accelerated computing",
    "gpuNum": 8,
    "memoryGiB": 768,
    "name": "ml.g5.48xlarge",
    "vcpuNum": 192
   }
  ],
  "instance_type": "ml.t3.medium",
  "kernelspec": {
   "display_name": "Python 3 (Data Science)",
   "language": "python",
   "name": "python3__SAGEMAKER_INTERNAL__arn:aws:sagemaker:us-east-2:429704687514:image/datascience-1.0"
  },
  "language_info": {
   "codemirror_mode": {
    "name": "ipython",
    "version": 3
   },
   "file_extension": ".py",
   "mimetype": "text/x-python",
   "name": "python",
   "nbconvert_exporter": "python",
   "pygments_lexer": "ipython3",
   "version": "3.7.10"
  }
 },
 "nbformat": 4,
 "nbformat_minor": 4
}
