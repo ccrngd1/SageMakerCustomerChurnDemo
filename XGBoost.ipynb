{
 "cells": [
  {
   "cell_type": "code",
   "execution_count": 8,
   "metadata": {},
   "outputs": [
    {
     "name": "stdout",
     "output_type": "stream",
     "text": [
      "Collecting sagemaker-experiments\n",
      "  Using cached sagemaker_experiments-0.1.42-py3-none-any.whl (42 kB)\n",
      "Requirement already satisfied: boto3>=1.16.27 in /opt/conda/lib/python3.7/site-packages (from sagemaker-experiments) (1.26.24)\n",
      "Requirement already satisfied: botocore<1.30.0,>=1.29.24 in /opt/conda/lib/python3.7/site-packages (from boto3>=1.16.27->sagemaker-experiments) (1.29.24)\n",
      "Requirement already satisfied: s3transfer<0.7.0,>=0.6.0 in /opt/conda/lib/python3.7/site-packages (from boto3>=1.16.27->sagemaker-experiments) (0.6.0)\n",
      "Requirement already satisfied: jmespath<2.0.0,>=0.7.1 in /opt/conda/lib/python3.7/site-packages (from boto3>=1.16.27->sagemaker-experiments) (1.0.1)\n",
      "Requirement already satisfied: urllib3<1.27,>=1.25.4 in /opt/conda/lib/python3.7/site-packages (from botocore<1.30.0,>=1.29.24->boto3>=1.16.27->sagemaker-experiments) (1.26.13)\n",
      "Requirement already satisfied: python-dateutil<3.0.0,>=2.1 in /opt/conda/lib/python3.7/site-packages (from botocore<1.30.0,>=1.29.24->boto3>=1.16.27->sagemaker-experiments) (2.8.2)\n",
      "Requirement already satisfied: six>=1.5 in /opt/conda/lib/python3.7/site-packages (from python-dateutil<3.0.0,>=2.1->botocore<1.30.0,>=1.29.24->boto3>=1.16.27->sagemaker-experiments) (1.14.0)\n",
      "Installing collected packages: sagemaker-experiments\n",
      "Successfully installed sagemaker-experiments-0.1.42\n",
      "\u001b[33mWARNING: Running pip as the 'root' user can result in broken permissions and conflicting behaviour with the system package manager. It is recommended to use a virtual environment instead: https://pip.pypa.io/warnings/venv\u001b[0m\u001b[33m\n",
      "\u001b[0m\n",
      "\u001b[1m[\u001b[0m\u001b[34;49mnotice\u001b[0m\u001b[1;39;49m]\u001b[0m\u001b[39;49m A new release of pip available: \u001b[0m\u001b[31;49m22.3.1\u001b[0m\u001b[39;49m -> \u001b[0m\u001b[32;49m23.0.1\u001b[0m\n",
      "\u001b[1m[\u001b[0m\u001b[34;49mnotice\u001b[0m\u001b[1;39;49m]\u001b[0m\u001b[39;49m To update, run: \u001b[0m\u001b[32;49mpip install --upgrade pip\u001b[0m\n"
     ]
    }
   ],
   "source": [
    "!pip install sagemaker-experiments"
   ]
  },
  {
   "cell_type": "code",
   "execution_count": 9,
   "metadata": {},
   "outputs": [
    {
     "data": {
      "text/plain": [
       "Experiment(sagemaker_boto_client=<botocore.client.SageMaker object at 0x7f8b46cfa590>,experiment_name='18-02-2023-16-20-58xgboost-cust-churn',description='Iterative model tuning - altering data engineering steps',tags=None,experiment_arn='arn:aws:sagemaker:us-east-2:791580863750:experiment/18-02-2023-16-20-58xgboost-cust-churn',response_metadata={'RequestId': '85bbc015-ef1d-47ef-99c3-f23b5c20e90a', 'HTTPStatusCode': 200, 'HTTPHeaders': {'x-amzn-requestid': '85bbc015-ef1d-47ef-99c3-f23b5c20e90a', 'content-type': 'application/x-amz-json-1.1', 'content-length': '109', 'date': 'Sat, 18 Feb 2023 16:20:58 GMT'}, 'RetryAttempts': 0})"
      ]
     },
     "execution_count": 9,
     "metadata": {},
     "output_type": "execute_result"
    }
   ],
   "source": [
    "import sagemaker\n",
    "import boto3\n",
    "import pandas as pd\n",
    "from datetime import datetime \n",
    "\n",
    "from sagemaker import image_uris \n",
    "from sagemaker.session import Session\n",
    "from sagemaker.inputs import TrainingInput\n",
    "from time import gmtime, strftime\n",
    "import time\n",
    "from smexperiments import experiment\n",
    "\n",
    "region = boto3.Session().region_name\n",
    "\n",
    "session = sagemaker.Session()\n",
    "bucket = 'lawsnic-aiml-east2'\n",
    "prefix = 'kaggle/customerChurn'\n",
    "\n",
    "role = sagemaker.get_execution_role()\n",
    "\n",
    "sm = boto3.Session().client(service_name='sagemaker',region_name=region)\n",
    "\n",
    "\n",
    "# name of experiment\n",
    "timestep = datetime.now()\n",
    "timestep = timestep.strftime(\"%d-%m-%Y-%H-%M-%S\")\n",
    "experiment_name = timestep + \"xgboost-cust-churn\"\n",
    "\n",
    "# create experiment\n",
    "experiment.Experiment.create(\n",
    "    experiment_name=experiment_name,\n",
    "    description=\"Iterative model tuning - altering data engineering steps\",\n",
    "    sagemaker_boto_client=sm,\n",
    ")"
   ]
  },
  {
   "cell_type": "code",
   "execution_count": 10,
   "metadata": {},
   "outputs": [],
   "source": [
    "#sm.get_paginator('list_candidates_for_auto_ml_job')\n",
    "#sm.list_candidates_for_auto_ml_job(AutoMLJobName='xgb-custChurn-2023-2-18-11')"
   ]
  },
  {
   "cell_type": "code",
   "execution_count": 11,
   "metadata": {},
   "outputs": [
    {
     "name": "stderr",
     "output_type": "stream",
     "text": [
      "INFO:sagemaker.image_uris:Ignoring unnecessary instance type: None.\n"
     ]
    }
   ],
   "source": [
    "# cell 10\n",
    "container = sagemaker.image_uris.retrieve(region=boto3.Session().region_name, framework='xgboost', version='latest')"
   ]
  },
  {
   "cell_type": "code",
   "execution_count": 17,
   "metadata": {},
   "outputs": [],
   "source": [
    "# cell 11\n",
    "#validation_location = 's3://lawsnic-aiml-east2/kaggle/customerChurn/features/partial/test/CustomerChurnDW-2023-01-06T17-24-14/part-00000-3986a971-e8a5-4844-bfc8-e72e78f341b4-c000.csv'\n",
    "#training_location = 's3://lawsnic-aiml-east2/kaggle/customerChurn/features/partial/train/CustomerChurnDW-2023-01-06T17-24-14/part-00000-0338ba51-05d0-4737-bd40-d52e24739eb6-c000.csv'\n",
    "\n",
    "training_location = 's3://lawsnic-aiml-east2/kaggle/customerChurn/features/partial/train/CustomerChurnDW-2023-01-06T14-14-13/part-00000-642a0746-49b9-4fda-ad2d-98afe1db11ec-c000.csv'\n",
    "validation_location = 's3://lawsnic-aiml-east2/kaggle/customerChurn/features/partial/test/CustomerChurnDW-2023-01-06T14-14-13/part-00000-ccd6e4dd-898c-4fc4-a63a-85d1cfcfc4dc-c000.csv'"
   ]
  },
  {
   "cell_type": "code",
   "execution_count": 28,
   "metadata": {},
   "outputs": [
    {
     "name": "stdout",
     "output_type": "stream",
     "text": [
      "train data has 41 features\n",
      "validation data has 41 features before dropping target\n"
     ]
    }
   ],
   "source": [
    "df = pd.read_csv(training_location)\n",
    "df[\"SeniorCitizen\"] = df[\"SeniorCitizen\"].astype(int)\n",
    "df[\"Churn\"] = df[\"Churn\"].astype(int)\n",
    "df[\"Partner\"] = df[\"Partner\"].astype(int)\n",
    "df[\"Dependents\"] = df[\"Dependents\"].astype(int)\n",
    "df[\"PhoneService\"] = df[\"PhoneService\"].astype(int)\n",
    "df[\"PaperlessBilling\"] = df[\"PaperlessBilling\"].astype(int)\n",
    "df[\"isFemale\"] = df[\"isFemale\"].astype(int) \n",
    "df.to_csv('s3://lawsnic-aiml-east2/kaggle/customerChurn/features/partial/train_with_header.csv',index=False)\n",
    "df.to_csv('s3://lawsnic-aiml-east2/kaggle/customerChurn/features/partial/train.csv',header=None,index=False)\n",
    "\n",
    "print('train data has {} features'.format(len(df.columns)))\n",
    "\n",
    "df = pd.read_csv(validation_location)\n",
    "df[\"SeniorCitizen\"] = df[\"SeniorCitizen\"].astype(int)\n",
    "df[\"Churn\"] = df[\"Churn\"].astype(int)\n",
    "df[\"Partner\"] = df[\"Partner\"].astype(int)\n",
    "df[\"Dependents\"] = df[\"Dependents\"].astype(int)\n",
    "df[\"PhoneService\"] = df[\"PhoneService\"].astype(int)\n",
    "df[\"PaperlessBilling\"] = df[\"PaperlessBilling\"].astype(int)\n",
    "df[\"isFemale\"] = df[\"isFemale\"].astype(int)\n",
    "df.to_csv('s3://lawsnic-aiml-east2/kaggle/customerChurn/features/partial/validate_with_target_and_header.csv',index=False)\n",
    "df.to_csv('s3://lawsnic-aiml-east2/kaggle/customerChurn/features/partial/validate_with_target.csv',header=None,index=False)\n",
    "\n",
    "print('validation data has {} features before dropping target'.format(len(df.columns)))\n",
    "\n",
    "test_data2 =df.drop([\"Churn\"], axis=1) \n",
    "test_data2.to_csv('s3://lawsnic-aiml-east2/kaggle/customerChurn/features/partial/validate.csv',header=None,index=False)\n",
    "\n",
    "df = 0\n",
    "test_data2=0\n",
    "\n",
    "s3_uri_train_data = 's3://lawsnic-aiml-east2/kaggle/customerChurn/features/partial/train.csv'\n",
    "s3_uri_train_data_with_header = 's3://lawsnic-aiml-east2/kaggle/customerChurn/features/partial/train_with_header.csv'\n",
    "s3_uri_validate_data = 's3://lawsnic-aiml-east2/kaggle/customerChurn/features/partial/validate.csv'\n",
    "s3_uri_validate_data_with_target_and_header = 's3://lawsnic-aiml-east2/kaggle/customerChurn/features/partial/validate_with_target_and_header.csv'\n",
    "s3_uri_validate_data_with_target = 's3://lawsnic-aiml-east2/kaggle/customerChurn/features/partial/validate_with_target.csv'\n",
    "\n",
    "s3_input_train = sagemaker.inputs.TrainingInput(s3_data=s3_uri_train_data, content_type='csv')\n",
    "s3_input_validation = sagemaker.inputs.TrainingInput(s3_data=s3_uri_validate_data_with_target, content_type='csv')"
   ]
  },
  {
   "cell_type": "markdown",
   "metadata": {},
   "source": [
    "First we'll need to specify training parameters to the estimator.  This includes:\n",
    "1. The `xgboost` algorithm container\n",
    "1. The IAM role to use\n",
    "1. Training instance type and count\n",
    "1. S3 location for output data\n",
    "1. Algorithm hyperparameters\n",
    "\n",
    "And then a `.fit()` function which specifies:\n",
    "1. S3 location for output data.  In this case we have both a training and validation set which are passed in."
   ]
  },
  {
   "cell_type": "code",
   "execution_count": 29,
   "metadata": {},
   "outputs": [
    {
     "name": "stderr",
     "output_type": "stream",
     "text": [
      "INFO:sagemaker.image_uris:Defaulting to the only supported framework/algorithm version: latest.\n",
      "INFO:sagemaker.image_uris:Ignoring unnecessary instance type: None.\n",
      "INFO:sagemaker:Creating training-job with name: xgboost-2023-02-18-18-04-45-844\n"
     ]
    },
    {
     "name": "stdout",
     "output_type": "stream",
     "text": [
      "2023-02-18 18:04:46 Starting - Starting the training job...\n",
      "2023-02-18 18:05:11 Starting - Preparing the instances for trainingProfilerReport-1676743485: InProgress\n",
      ".........\n",
      "2023-02-18 18:06:30 Downloading - Downloading input data...\n",
      "2023-02-18 18:07:10 Training - Downloading the training image...\n",
      "2023-02-18 18:07:42 Uploading - Uploading generated training model\u001b[34mArguments: train\u001b[0m\n",
      "\u001b[34m[2023-02-18:18:07:37:INFO] Running standalone xgboost training.\u001b[0m\n",
      "\u001b[34m[2023-02-18:18:07:37:INFO] File size need to be processed in the node: 1.03mb. Available memory size in the node: 8618.28mb\u001b[0m\n",
      "\u001b[34m[2023-02-18:18:07:37:INFO] Determined delimiter of CSV input is ','\u001b[0m\n",
      "\u001b[34m[18:07:37] S3DistributionType set as FullyReplicated\u001b[0m\n",
      "\u001b[34m[18:07:37] 6337x40 matrix with 253480 entries loaded from /opt/ml/input/data/train?format=csv&label_column=0&delimiter=,\u001b[0m\n",
      "\u001b[34m[2023-02-18:18:07:37:INFO] Determined delimiter of CSV input is ','\u001b[0m\n",
      "\u001b[34m[18:07:37] S3DistributionType set as FullyReplicated\u001b[0m\n",
      "\u001b[34m[18:07:37] 706x40 matrix with 28240 entries loaded from /opt/ml/input/data/validation?format=csv&label_column=0&delimiter=,\u001b[0m\n",
      "\u001b[34m[18:07:37] src/tree/updater_prune.cc:74: tree pruning end, 1 roots, 24 extra nodes, 12 pruned nodes, max_depth=5\u001b[0m\n",
      "\u001b[34m[0]#011train-auc:0.769454#011validation-auc:0.79919\u001b[0m\n",
      "\u001b[34m[18:07:37] src/tree/updater_prune.cc:74: tree pruning end, 1 roots, 30 extra nodes, 12 pruned nodes, max_depth=5\u001b[0m\n",
      "\u001b[34m[1]#011train-auc:0.783053#011validation-auc:0.804513\u001b[0m\n",
      "\u001b[34m[18:07:37] src/tree/updater_prune.cc:74: tree pruning end, 1 roots, 20 extra nodes, 18 pruned nodes, max_depth=5\u001b[0m\n",
      "\u001b[34m[2]#011train-auc:0.785195#011validation-auc:0.806083\u001b[0m\n",
      "\u001b[34m[18:07:37] src/tree/updater_prune.cc:74: tree pruning end, 1 roots, 26 extra nodes, 22 pruned nodes, max_depth=5\u001b[0m\n",
      "\u001b[34m[3]#011train-auc:0.78757#011validation-auc:0.806118\u001b[0m\n",
      "\u001b[34m[18:07:37] src/tree/updater_prune.cc:74: tree pruning end, 1 roots, 28 extra nodes, 24 pruned nodes, max_depth=5\u001b[0m\n",
      "\u001b[34m[4]#011train-auc:0.790703#011validation-auc:0.80561\u001b[0m\n",
      "\u001b[34m[18:07:37] src/tree/updater_prune.cc:74: tree pruning end, 1 roots, 26 extra nodes, 26 pruned nodes, max_depth=5\u001b[0m\n",
      "\u001b[34m[5]#011train-auc:0.794292#011validation-auc:0.806802\u001b[0m\n",
      "\u001b[34m[18:07:37] src/tree/updater_prune.cc:74: tree pruning end, 1 roots, 28 extra nodes, 20 pruned nodes, max_depth=5\u001b[0m\n",
      "\u001b[34m[6]#011train-auc:0.797043#011validation-auc:0.809828\u001b[0m\n",
      "\u001b[34m[18:07:37] src/tree/updater_prune.cc:74: tree pruning end, 1 roots, 22 extra nodes, 26 pruned nodes, max_depth=5\u001b[0m\n",
      "\u001b[34m[7]#011train-auc:0.79776#011validation-auc:0.809416\u001b[0m\n",
      "\u001b[34m[18:07:37] src/tree/updater_prune.cc:74: tree pruning end, 1 roots, 24 extra nodes, 16 pruned nodes, max_depth=5\u001b[0m\n",
      "\u001b[34m[8]#011train-auc:0.801083#011validation-auc:0.80753\u001b[0m\n",
      "\u001b[34m[18:07:37] src/tree/updater_prune.cc:74: tree pruning end, 1 roots, 22 extra nodes, 28 pruned nodes, max_depth=5\u001b[0m\n",
      "\u001b[34m[9]#011train-auc:0.802397#011validation-auc:0.8086\u001b[0m\n",
      "\u001b[34m[18:07:37] src/tree/updater_prune.cc:74: tree pruning end, 1 roots, 16 extra nodes, 24 pruned nodes, max_depth=5\u001b[0m\n",
      "\u001b[34m[10]#011train-auc:0.80402#011validation-auc:0.812091\u001b[0m\n",
      "\u001b[34m[18:07:37] src/tree/updater_prune.cc:74: tree pruning end, 1 roots, 28 extra nodes, 20 pruned nodes, max_depth=5\u001b[0m\n",
      "\u001b[34m[11]#011train-auc:0.80714#011validation-auc:0.807969\u001b[0m\n",
      "\u001b[34m[18:07:38] src/tree/updater_prune.cc:74: tree pruning end, 1 roots, 16 extra nodes, 20 pruned nodes, max_depth=5\u001b[0m\n",
      "\u001b[34m[12]#011train-auc:0.808193#011validation-auc:0.810521\u001b[0m\n",
      "\u001b[34m[18:07:38] src/tree/updater_prune.cc:74: tree pruning end, 1 roots, 20 extra nodes, 28 pruned nodes, max_depth=5\u001b[0m\n",
      "\u001b[34m[13]#011train-auc:0.809365#011validation-auc:0.810811\u001b[0m\n",
      "\u001b[34m[18:07:38] src/tree/updater_prune.cc:74: tree pruning end, 1 roots, 24 extra nodes, 22 pruned nodes, max_depth=5\u001b[0m\n",
      "\u001b[34m[14]#011train-auc:0.810984#011validation-auc:0.811302\u001b[0m\n",
      "\u001b[34m[18:07:38] src/tree/updater_prune.cc:74: tree pruning end, 1 roots, 18 extra nodes, 24 pruned nodes, max_depth=5\u001b[0m\n",
      "\u001b[34m[15]#011train-auc:0.811614#011validation-auc:0.8111\u001b[0m\n",
      "\u001b[34m[18:07:38] src/tree/updater_prune.cc:74: tree pruning end, 1 roots, 30 extra nodes, 16 pruned nodes, max_depth=5\u001b[0m\n",
      "\u001b[34m[16]#011train-auc:0.813736#011validation-auc:0.810197\u001b[0m\n",
      "\u001b[34m[18:07:38] src/tree/updater_prune.cc:74: tree pruning end, 1 roots, 18 extra nodes, 18 pruned nodes, max_depth=5\u001b[0m\n",
      "\u001b[34m[17]#011train-auc:0.814661#011validation-auc:0.810802\u001b[0m\n",
      "\u001b[34m[18:07:38] src/tree/updater_prune.cc:74: tree pruning end, 1 roots, 20 extra nodes, 18 pruned nodes, max_depth=5\u001b[0m\n",
      "\u001b[34m[18]#011train-auc:0.815567#011validation-auc:0.808767\u001b[0m\n",
      "\u001b[34m[18:07:38] src/tree/updater_prune.cc:74: tree pruning end, 1 roots, 12 extra nodes, 26 pruned nodes, max_depth=4\u001b[0m\n",
      "\u001b[34m[19]#011train-auc:0.816433#011validation-auc:0.809276\u001b[0m\n",
      "\u001b[34m[18:07:38] src/tree/updater_prune.cc:74: tree pruning end, 1 roots, 18 extra nodes, 22 pruned nodes, max_depth=5\u001b[0m\n",
      "\u001b[34m[20]#011train-auc:0.817014#011validation-auc:0.80853\u001b[0m\n",
      "\u001b[34m[18:07:38] src/tree/updater_prune.cc:74: tree pruning end, 1 roots, 20 extra nodes, 18 pruned nodes, max_depth=5\u001b[0m\n",
      "\u001b[34m[21]#011train-auc:0.818492#011validation-auc:0.808548\u001b[0m\n",
      "\u001b[34m[18:07:38] src/tree/updater_prune.cc:74: tree pruning end, 1 roots, 16 extra nodes, 24 pruned nodes, max_depth=5\u001b[0m\n",
      "\u001b[34m[22]#011train-auc:0.819582#011validation-auc:0.807829\u001b[0m\n",
      "\u001b[34m[18:07:38] src/tree/updater_prune.cc:74: tree pruning end, 1 roots, 12 extra nodes, 16 pruned nodes, max_depth=5\u001b[0m\n",
      "\u001b[34m[23]#011train-auc:0.820279#011validation-auc:0.807758\u001b[0m\n",
      "\u001b[34m[18:07:38] src/tree/updater_prune.cc:74: tree pruning end, 1 roots, 20 extra nodes, 14 pruned nodes, max_depth=5\u001b[0m\n",
      "\u001b[34m[24]#011train-auc:0.821834#011validation-auc:0.807223\u001b[0m\n",
      "\u001b[34m[18:07:38] src/tree/updater_prune.cc:74: tree pruning end, 1 roots, 6 extra nodes, 16 pruned nodes, max_depth=3\u001b[0m\n",
      "\u001b[34m[25]#011train-auc:0.822455#011validation-auc:0.806469\u001b[0m\n",
      "\u001b[34m[18:07:38] src/tree/updater_prune.cc:74: tree pruning end, 1 roots, 24 extra nodes, 26 pruned nodes, max_depth=5\u001b[0m\n",
      "\u001b[34m[26]#011train-auc:0.823882#011validation-auc:0.806241\u001b[0m\n",
      "\u001b[34m[18:07:38] src/tree/updater_prune.cc:74: tree pruning end, 1 roots, 26 extra nodes, 18 pruned nodes, max_depth=5\u001b[0m\n",
      "\u001b[34m[27]#011train-auc:0.825966#011validation-auc:0.804733\u001b[0m\n",
      "\u001b[34m[18:07:38] src/tree/updater_prune.cc:74: tree pruning end, 1 roots, 14 extra nodes, 20 pruned nodes, max_depth=4\u001b[0m\n",
      "\u001b[34m[28]#011train-auc:0.82657#011validation-auc:0.804013\u001b[0m\n",
      "\u001b[34m[18:07:38] src/tree/updater_prune.cc:74: tree pruning end, 1 roots, 12 extra nodes, 22 pruned nodes, max_depth=5\u001b[0m\n",
      "\u001b[34m[29]#011train-auc:0.827491#011validation-auc:0.802873\u001b[0m\n",
      "\u001b[34m[18:07:38] src/tree/updater_prune.cc:74: tree pruning end, 1 roots, 20 extra nodes, 16 pruned nodes, max_depth=5\u001b[0m\n",
      "\u001b[34m[30]#011train-auc:0.828732#011validation-auc:0.801935\u001b[0m\n",
      "\u001b[34m[18:07:38] src/tree/updater_prune.cc:74: tree pruning end, 1 roots, 14 extra nodes, 14 pruned nodes, max_depth=5\u001b[0m\n",
      "\u001b[34m[31]#011train-auc:0.829362#011validation-auc:0.803207\u001b[0m\n",
      "\u001b[34m[18:07:38] src/tree/updater_prune.cc:74: tree pruning end, 1 roots, 12 extra nodes, 14 pruned nodes, max_depth=5\u001b[0m\n",
      "\u001b[34m[32]#011train-auc:0.830369#011validation-auc:0.803066\u001b[0m\n",
      "\u001b[34m[18:07:38] src/tree/updater_prune.cc:74: tree pruning end, 1 roots, 18 extra nodes, 24 pruned nodes, max_depth=5\u001b[0m\n",
      "\u001b[34m[33]#011train-auc:0.831217#011validation-auc:0.802645\u001b[0m\n",
      "\u001b[34m[18:07:38] src/tree/updater_prune.cc:74: tree pruning end, 1 roots, 10 extra nodes, 18 pruned nodes, max_depth=4\u001b[0m\n",
      "\u001b[34m[34]#011train-auc:0.832039#011validation-auc:0.801856\u001b[0m\n",
      "\u001b[34m[18:07:38] src/tree/updater_prune.cc:74: tree pruning end, 1 roots, 22 extra nodes, 28 pruned nodes, max_depth=5\u001b[0m\n",
      "\u001b[34m[35]#011train-auc:0.832949#011validation-auc:0.801908\u001b[0m\n",
      "\u001b[34m[18:07:38] src/tree/updater_prune.cc:74: tree pruning end, 1 roots, 14 extra nodes, 6 pruned nodes, max_depth=5\u001b[0m\n",
      "\u001b[34m[36]#011train-auc:0.833975#011validation-auc:0.80275\u001b[0m\n",
      "\u001b[34m[18:07:38] src/tree/updater_prune.cc:74: tree pruning end, 1 roots, 12 extra nodes, 20 pruned nodes, max_depth=5\u001b[0m\n",
      "\u001b[34m[37]#011train-auc:0.834495#011validation-auc:0.803084\u001b[0m\n",
      "\u001b[34m[18:07:38] src/tree/updater_prune.cc:74: tree pruning end, 1 roots, 12 extra nodes, 10 pruned nodes, max_depth=5\u001b[0m\n",
      "\u001b[34m[38]#011train-auc:0.835041#011validation-auc:0.80247\u001b[0m\n",
      "\u001b[34m[18:07:38] src/tree/updater_prune.cc:74: tree pruning end, 1 roots, 8 extra nodes, 24 pruned nodes, max_depth=4\u001b[0m\n",
      "\u001b[34m[39]#011train-auc:0.835371#011validation-auc:0.801803\u001b[0m\n",
      "\u001b[34m[18:07:38] src/tree/updater_prune.cc:74: tree pruning end, 1 roots, 0 extra nodes, 18 pruned nodes, max_depth=0\u001b[0m\n",
      "\u001b[34m[40]#011train-auc:0.835371#011validation-auc:0.801803\u001b[0m\n",
      "\u001b[34m[18:07:38] src/tree/updater_prune.cc:74: tree pruning end, 1 roots, 10 extra nodes, 22 pruned nodes, max_depth=5\u001b[0m\n",
      "\u001b[34m[41]#011train-auc:0.835692#011validation-auc:0.802066\u001b[0m\n",
      "\u001b[34m[18:07:38] src/tree/updater_prune.cc:74: tree pruning end, 1 roots, 0 extra nodes, 26 pruned nodes, max_depth=0\u001b[0m\n",
      "\u001b[34m[42]#011train-auc:0.835692#011validation-auc:0.802066\u001b[0m\n",
      "\u001b[34m[18:07:38] src/tree/updater_prune.cc:74: tree pruning end, 1 roots, 6 extra nodes, 16 pruned nodes, max_depth=3\u001b[0m\n",
      "\u001b[34m[43]#011train-auc:0.835941#011validation-auc:0.802277\u001b[0m\n",
      "\u001b[34m[18:07:38] src/tree/updater_prune.cc:74: tree pruning end, 1 roots, 10 extra nodes, 44 pruned nodes, max_depth=5\u001b[0m\n",
      "\u001b[34m[44]#011train-auc:0.836316#011validation-auc:0.801435\u001b[0m\n",
      "\u001b[34m[18:07:38] src/tree/updater_prune.cc:74: tree pruning end, 1 roots, 10 extra nodes, 12 pruned nodes, max_depth=5\u001b[0m\n",
      "\u001b[34m[45]#011train-auc:0.836826#011validation-auc:0.801154\u001b[0m\n",
      "\u001b[34m[18:07:38] src/tree/updater_prune.cc:74: tree pruning end, 1 roots, 12 extra nodes, 6 pruned nodes, max_depth=5\u001b[0m\n",
      "\u001b[34m[46]#011train-auc:0.837446#011validation-auc:0.801523\u001b[0m\n",
      "\u001b[34m[18:07:38] src/tree/updater_prune.cc:74: tree pruning end, 1 roots, 10 extra nodes, 26 pruned nodes, max_depth=3\u001b[0m\n",
      "\u001b[34m[47]#011train-auc:0.837843#011validation-auc:0.80161\u001b[0m\n",
      "\u001b[34m[18:07:38] src/tree/updater_prune.cc:74: tree pruning end, 1 roots, 4 extra nodes, 18 pruned nodes, max_depth=2\u001b[0m\n",
      "\u001b[34m[48]#011train-auc:0.837974#011validation-auc:0.801505\u001b[0m\n",
      "\u001b[34m[18:07:38] src/tree/updater_prune.cc:74: tree pruning end, 1 roots, 10 extra nodes, 16 pruned nodes, max_depth=5\u001b[0m\n",
      "\u001b[34m[49]#011train-auc:0.838403#011validation-auc:0.800593\u001b[0m\n",
      "\u001b[34m[18:07:38] src/tree/updater_prune.cc:74: tree pruning end, 1 roots, 10 extra nodes, 2 pruned nodes, max_depth=5\u001b[0m\n",
      "\u001b[34m[50]#011train-auc:0.838977#011validation-auc:0.800084\u001b[0m\n",
      "\u001b[34m[18:07:38] src/tree/updater_prune.cc:74: tree pruning end, 1 roots, 14 extra nodes, 26 pruned nodes, max_depth=5\u001b[0m\n",
      "\u001b[34m[51]#011train-auc:0.839461#011validation-auc:0.800523\u001b[0m\n",
      "\u001b[34m[18:07:38] src/tree/updater_prune.cc:74: tree pruning end, 1 roots, 16 extra nodes, 16 pruned nodes, max_depth=5\u001b[0m\n",
      "\u001b[34m[52]#011train-auc:0.84048#011validation-auc:0.798874\u001b[0m\n",
      "\u001b[34m[18:07:38] src/tree/updater_prune.cc:74: tree pruning end, 1 roots, 8 extra nodes, 10 pruned nodes, max_depth=4\u001b[0m\n",
      "\u001b[34m[53]#011train-auc:0.840844#011validation-auc:0.798663\u001b[0m\n",
      "\u001b[34m[18:07:38] src/tree/updater_prune.cc:74: tree pruning end, 1 roots, 0 extra nodes, 24 pruned nodes, max_depth=0\u001b[0m\n",
      "\u001b[34m[54]#011train-auc:0.840844#011validation-auc:0.798663\u001b[0m\n",
      "\u001b[34m[18:07:38] src/tree/updater_prune.cc:74: tree pruning end, 1 roots, 6 extra nodes, 18 pruned nodes, max_depth=3\u001b[0m\n",
      "\u001b[34m[55]#011train-auc:0.841138#011validation-auc:0.798541\u001b[0m\n",
      "\u001b[34m[18:07:38] src/tree/updater_prune.cc:74: tree pruning end, 1 roots, 16 extra nodes, 30 pruned nodes, max_depth=5\u001b[0m\n",
      "\u001b[34m[56]#011train-auc:0.842317#011validation-auc:0.798032\u001b[0m\n",
      "\u001b[34m[18:07:38] src/tree/updater_prune.cc:74: tree pruning end, 1 roots, 10 extra nodes, 14 pruned nodes, max_depth=5\u001b[0m\n",
      "\u001b[34m[57]#011train-auc:0.842889#011validation-auc:0.798137\u001b[0m\n",
      "\u001b[34m[18:07:38] src/tree/updater_prune.cc:74: tree pruning end, 1 roots, 20 extra nodes, 24 pruned nodes, max_depth=5\u001b[0m\n",
      "\u001b[34m[58]#011train-auc:0.843934#011validation-auc:0.79826\u001b[0m\n",
      "\u001b[34m[18:07:38] src/tree/updater_prune.cc:74: tree pruning end, 1 roots, 8 extra nodes, 24 pruned nodes, max_depth=4\u001b[0m\n",
      "\u001b[34m[59]#011train-auc:0.844157#011validation-auc:0.797769\u001b[0m\n",
      "\u001b[34m[18:07:38] src/tree/updater_prune.cc:74: tree pruning end, 1 roots, 10 extra nodes, 32 pruned nodes, max_depth=5\u001b[0m\n",
      "\u001b[34m[60]#011train-auc:0.844792#011validation-auc:0.797927\u001b[0m\n",
      "\u001b[34m[18:07:38] src/tree/updater_prune.cc:74: tree pruning end, 1 roots, 14 extra nodes, 16 pruned nodes, max_depth=5\u001b[0m\n",
      "\u001b[34m[61]#011train-auc:0.845534#011validation-auc:0.796629\u001b[0m\n",
      "\u001b[34m[18:07:38] src/tree/updater_prune.cc:74: tree pruning end, 1 roots, 16 extra nodes, 14 pruned nodes, max_depth=5\u001b[0m\n",
      "\u001b[34m[62]#011train-auc:0.846333#011validation-auc:0.796857\u001b[0m\n",
      "\u001b[34m[18:07:38] src/tree/updater_prune.cc:74: tree pruning end, 1 roots, 10 extra nodes, 6 pruned nodes, max_depth=5\u001b[0m\n",
      "\u001b[34m[63]#011train-auc:0.846443#011validation-auc:0.797365\u001b[0m\n",
      "\u001b[34m[18:07:38] src/tree/updater_prune.cc:74: tree pruning end, 1 roots, 0 extra nodes, 18 pruned nodes, max_depth=0\u001b[0m\n",
      "\u001b[34m[64]#011train-auc:0.846443#011validation-auc:0.797365\u001b[0m\n",
      "\u001b[34m[18:07:38] src/tree/updater_prune.cc:74: tree pruning end, 1 roots, 0 extra nodes, 14 pruned nodes, max_depth=0\u001b[0m\n",
      "\u001b[34m[65]#011train-auc:0.846443#011validation-auc:0.797365\u001b[0m\n",
      "\u001b[34m[18:07:38] src/tree/updater_prune.cc:74: tree pruning end, 1 roots, 0 extra nodes, 20 pruned nodes, max_depth=0\u001b[0m\n",
      "\u001b[34m[66]#011train-auc:0.846443#011validation-auc:0.797365\u001b[0m\n",
      "\u001b[34m[18:07:38] src/tree/updater_prune.cc:74: tree pruning end, 1 roots, 10 extra nodes, 6 pruned nodes, max_depth=5\u001b[0m\n",
      "\u001b[34m[67]#011train-auc:0.846816#011validation-auc:0.796874\u001b[0m\n",
      "\u001b[34m[18:07:38] src/tree/updater_prune.cc:74: tree pruning end, 1 roots, 12 extra nodes, 30 pruned nodes, max_depth=4\u001b[0m\n",
      "\u001b[34m[68]#011train-auc:0.847188#011validation-auc:0.797944\u001b[0m\n",
      "\u001b[34m[18:07:38] src/tree/updater_prune.cc:74: tree pruning end, 1 roots, 18 extra nodes, 28 pruned nodes, max_depth=5\u001b[0m\n",
      "\u001b[34m[69]#011train-auc:0.847997#011validation-auc:0.799663\u001b[0m\n",
      "\u001b[34m[18:07:38] src/tree/updater_prune.cc:74: tree pruning end, 1 roots, 8 extra nodes, 26 pruned nodes, max_depth=4\u001b[0m\n",
      "\u001b[34m[70]#011train-auc:0.848376#011validation-auc:0.79947\u001b[0m\n",
      "\u001b[34m[18:07:38] src/tree/updater_prune.cc:74: tree pruning end, 1 roots, 12 extra nodes, 18 pruned nodes, max_depth=5\u001b[0m\n",
      "\u001b[34m[71]#011train-auc:0.849203#011validation-auc:0.797979\u001b[0m\n",
      "\u001b[34m[18:07:38] src/tree/updater_prune.cc:74: tree pruning end, 1 roots, 0 extra nodes, 18 pruned nodes, max_depth=0\u001b[0m\n",
      "\u001b[34m[72]#011train-auc:0.849203#011validation-auc:0.797979\u001b[0m\n",
      "\u001b[34m[18:07:38] src/tree/updater_prune.cc:74: tree pruning end, 1 roots, 16 extra nodes, 16 pruned nodes, max_depth=5\u001b[0m\n",
      "\u001b[34m[73]#011train-auc:0.849859#011validation-auc:0.797593\u001b[0m\n",
      "\u001b[34m[18:07:38] src/tree/updater_prune.cc:74: tree pruning end, 1 roots, 22 extra nodes, 18 pruned nodes, max_depth=5\u001b[0m\n",
      "\u001b[34m[74]#011train-auc:0.851053#011validation-auc:0.797611\u001b[0m\n",
      "\u001b[34m[18:07:38] src/tree/updater_prune.cc:74: tree pruning end, 1 roots, 16 extra nodes, 6 pruned nodes, max_depth=5\u001b[0m\n",
      "\u001b[34m[75]#011train-auc:0.851745#011validation-auc:0.798611\u001b[0m\n",
      "\u001b[34m[18:07:38] src/tree/updater_prune.cc:74: tree pruning end, 1 roots, 12 extra nodes, 8 pruned nodes, max_depth=5\u001b[0m\n",
      "\u001b[34m[76]#011train-auc:0.852332#011validation-auc:0.797313\u001b[0m\n",
      "\u001b[34m[18:07:38] src/tree/updater_prune.cc:74: tree pruning end, 1 roots, 0 extra nodes, 16 pruned nodes, max_depth=0\u001b[0m\n",
      "\u001b[34m[77]#011train-auc:0.852332#011validation-auc:0.797313\u001b[0m\n",
      "\u001b[34m[18:07:38] src/tree/updater_prune.cc:74: tree pruning end, 1 roots, 22 extra nodes, 24 pruned nodes, max_depth=5\u001b[0m\n",
      "\u001b[34m[78]#011train-auc:0.853416#011validation-auc:0.797243\u001b[0m\n",
      "\u001b[34m[18:07:38] src/tree/updater_prune.cc:74: tree pruning end, 1 roots, 10 extra nodes, 30 pruned nodes, max_depth=3\u001b[0m\n",
      "\u001b[34m[79]#011train-auc:0.853819#011validation-auc:0.797383\u001b[0m\n",
      "\u001b[34m[18:07:38] src/tree/updater_prune.cc:74: tree pruning end, 1 roots, 10 extra nodes, 26 pruned nodes, max_depth=5\u001b[0m\n",
      "\u001b[34m[80]#011train-auc:0.85429#011validation-auc:0.797207\u001b[0m\n",
      "\u001b[34m[18:07:38] src/tree/updater_prune.cc:74: tree pruning end, 1 roots, 10 extra nodes, 10 pruned nodes, max_depth=5\u001b[0m\n",
      "\u001b[34m[81]#011train-auc:0.854678#011validation-auc:0.796874\u001b[0m\n",
      "\u001b[34m[18:07:38] src/tree/updater_prune.cc:74: tree pruning end, 1 roots, 6 extra nodes, 24 pruned nodes, max_depth=3\u001b[0m\n",
      "\u001b[34m[82]#011train-auc:0.854824#011validation-auc:0.797716\u001b[0m\n",
      "\u001b[34m[18:07:38] src/tree/updater_prune.cc:74: tree pruning end, 1 roots, 16 extra nodes, 16 pruned nodes, max_depth=5\u001b[0m\n",
      "\u001b[34m[83]#011train-auc:0.855689#011validation-auc:0.799418\u001b[0m\n",
      "\u001b[34m[18:07:38] src/tree/updater_prune.cc:74: tree pruning end, 1 roots, 10 extra nodes, 14 pruned nodes, max_depth=5\u001b[0m\n",
      "\u001b[34m[84]#011train-auc:0.856433#011validation-auc:0.798944\u001b[0m\n",
      "\u001b[34m[18:07:38] src/tree/updater_prune.cc:74: tree pruning end, 1 roots, 14 extra nodes, 20 pruned nodes, max_depth=5\u001b[0m\n",
      "\u001b[34m[85]#011train-auc:0.856709#011validation-auc:0.797927\u001b[0m\n",
      "\u001b[34m[18:07:38] src/tree/updater_prune.cc:74: tree pruning end, 1 roots, 10 extra nodes, 24 pruned nodes, max_depth=5\u001b[0m\n",
      "\u001b[34m[86]#011train-auc:0.857068#011validation-auc:0.797839\u001b[0m\n",
      "\u001b[34m[18:07:38] src/tree/updater_prune.cc:74: tree pruning end, 1 roots, 12 extra nodes, 14 pruned nodes, max_depth=4\u001b[0m\n",
      "\u001b[34m[87]#011train-auc:0.857651#011validation-auc:0.797751\u001b[0m\n",
      "\u001b[34m[18:07:38] src/tree/updater_prune.cc:74: tree pruning end, 1 roots, 0 extra nodes, 18 pruned nodes, max_depth=0\u001b[0m\n",
      "\u001b[34m[88]#011train-auc:0.857651#011validation-auc:0.797751\u001b[0m\n",
      "\u001b[34m[18:07:38] src/tree/updater_prune.cc:74: tree pruning end, 1 roots, 0 extra nodes, 12 pruned nodes, max_depth=0\u001b[0m\n",
      "\u001b[34m[89]#011train-auc:0.857651#011validation-auc:0.797751\u001b[0m\n",
      "\u001b[34m[18:07:38] src/tree/updater_prune.cc:74: tree pruning end, 1 roots, 16 extra nodes, 20 pruned nodes, max_depth=5\u001b[0m\n",
      "\u001b[34m[90]#011train-auc:0.85798#011validation-auc:0.797137\u001b[0m\n",
      "\u001b[34m[18:07:38] src/tree/updater_prune.cc:74: tree pruning end, 1 roots, 18 extra nodes, 18 pruned nodes, max_depth=5\u001b[0m\n",
      "\u001b[34m[91]#011train-auc:0.859098#011validation-auc:0.79719\u001b[0m\n",
      "\u001b[34m[18:07:38] src/tree/updater_prune.cc:74: tree pruning end, 1 roots, 12 extra nodes, 14 pruned nodes, max_depth=5\u001b[0m\n",
      "\u001b[34m[92]#011train-auc:0.859369#011validation-auc:0.795839\u001b[0m\n",
      "\u001b[34m[18:07:38] src/tree/updater_prune.cc:74: tree pruning end, 1 roots, 10 extra nodes, 28 pruned nodes, max_depth=5\u001b[0m\n",
      "\u001b[34m[93]#011train-auc:0.859627#011validation-auc:0.795032\u001b[0m\n",
      "\u001b[34m[18:07:38] src/tree/updater_prune.cc:74: tree pruning end, 1 roots, 14 extra nodes, 8 pruned nodes, max_depth=5\u001b[0m\n",
      "\u001b[34m[94]#011train-auc:0.860303#011validation-auc:0.794576\u001b[0m\n",
      "\u001b[34m[18:07:38] src/tree/updater_prune.cc:74: tree pruning end, 1 roots, 8 extra nodes, 34 pruned nodes, max_depth=4\u001b[0m\n",
      "\u001b[34m[95]#011train-auc:0.860341#011validation-auc:0.794524\u001b[0m\n",
      "\u001b[34m[18:07:38] src/tree/updater_prune.cc:74: tree pruning end, 1 roots, 4 extra nodes, 6 pruned nodes, max_depth=2\u001b[0m\n",
      "\u001b[34m[96]#011train-auc:0.860494#011validation-auc:0.795138\u001b[0m\n",
      "\u001b[34m[18:07:38] src/tree/updater_prune.cc:74: tree pruning end, 1 roots, 18 extra nodes, 18 pruned nodes, max_depth=5\u001b[0m\n",
      "\u001b[34m[97]#011train-auc:0.861502#011validation-auc:0.794155\u001b[0m\n",
      "\u001b[34m[18:07:38] src/tree/updater_prune.cc:74: tree pruning end, 1 roots, 18 extra nodes, 24 pruned nodes, max_depth=5\u001b[0m\n",
      "\u001b[34m[98]#011train-auc:0.862144#011validation-auc:0.794418\u001b[0m\n",
      "\u001b[34m[18:07:38] src/tree/updater_prune.cc:74: tree pruning end, 1 roots, 0 extra nodes, 26 pruned nodes, max_depth=0\u001b[0m\n",
      "\u001b[34m[99]#011train-auc:0.862144#011validation-auc:0.794418\u001b[0m\n",
      "\n",
      "2023-02-18 18:08:10 Completed - Training job completed\n",
      "Training seconds: 97\n",
      "Billable seconds: 97\n"
     ]
    }
   ],
   "source": [
    "from smexperiments.trial import Trial\n",
    "\n",
    "trial = Trial.create(experiment_name=experiment_name, sagemaker_boto_client=sm)\n",
    "experiment_config = {\n",
    "    \"ExperimentName\": experiment_name,\n",
    "    \"TrialName\": trial.trial_name,\n",
    "    \"TrialComponentDisplayName\": \"Data\",\n",
    "}\n",
    "\n",
    "sess = sagemaker.Session()\n",
    "\n",
    "xgb = sagemaker.estimator.Estimator(container,\n",
    "                                    role, \n",
    "                                    instance_count=1, \n",
    "                                    instance_type='ml.m4.xlarge',\n",
    "                                    output_path='s3://{}/{}/manual-output/xgb-hpo'.format(bucket,prefix),\n",
    "                                    sagemaker_session=sess,\n",
    "                                    enable_sagemaker_metrics=True)\n",
    "xgb.set_hyperparameters(max_depth=5,\n",
    "                        eta=0.2,\n",
    "                        gamma=4,\n",
    "                        min_child_weight=6,\n",
    "                        subsample=0.8,\n",
    "                        silent=0,\n",
    "                        objective='binary:logistic',\n",
    "                        eval_metric='auc',\n",
    "                        num_round=100)\n",
    "\n",
    "xgb.fit({'train': s3_input_train, 'validation': s3_input_validation},\n",
    "    experiment_config=experiment_config)"
   ]
  },
  {
   "cell_type": "markdown",
   "metadata": {},
   "source": [
    "## HPO"
   ]
  },
  {
   "cell_type": "code",
   "execution_count": 30,
   "metadata": {},
   "outputs": [],
   "source": [
    "from sagemaker.tuner import IntegerParameter, CategoricalParameter, ContinuousParameter, HyperparameterTuner\n",
    "hyperparameter_ranges = {'eta': ContinuousParameter(0, 1),\n",
    "                            'min_child_weight': ContinuousParameter(1, 10),\n",
    "                            'alpha': ContinuousParameter(0, 2),\n",
    "                            'max_depth': IntegerParameter(1, 10)}\n",
    "\n",
    "objective_metric_name = 'validation:auc'\n",
    "\n",
    "tuner = HyperparameterTuner(xgb,\n",
    "                            objective_metric_name,\n",
    "                            hyperparameter_ranges,\n",
    "                            max_jobs=20,\n",
    "                            max_parallel_jobs=3)"
   ]
  },
  {
   "cell_type": "code",
   "execution_count": 31,
   "metadata": {},
   "outputs": [
    {
     "name": "stderr",
     "output_type": "stream",
     "text": [
      "INFO:sagemaker.image_uris:Defaulting to the only supported framework/algorithm version: latest.\n",
      "INFO:sagemaker.image_uris:Ignoring unnecessary instance type: None.\n",
      "INFO:sagemaker:Creating hyperparameter tuning job with name: xgboost-230218-1819\n"
     ]
    },
    {
     "name": "stdout",
     "output_type": "stream",
     "text": [
      "...............................................................................................!\n"
     ]
    }
   ],
   "source": [
    "tuner.fit({'train': s3_input_train, 'validation': s3_input_validation})"
   ]
  },
  {
   "cell_type": "code",
   "execution_count": 32,
   "metadata": {},
   "outputs": [
    {
     "data": {
      "text/plain": [
       "'Completed'"
      ]
     },
     "execution_count": 32,
     "metadata": {},
     "output_type": "execute_result"
    }
   ],
   "source": [
    "boto3.client('sagemaker').describe_hyper_parameter_tuning_job(\n",
    "HyperParameterTuningJobName=tuner.latest_tuning_job.job_name)['HyperParameterTuningJobStatus']"
   ]
  },
  {
   "cell_type": "code",
   "execution_count": 33,
   "metadata": {},
   "outputs": [
    {
     "data": {
      "text/plain": [
       "[{'MetricName': 'validation:auc',\n",
       "  'Value': 0.820264995098114,\n",
       "  'Timestamp': datetime.datetime(2023, 2, 18, 18, 25, 59, tzinfo=tzlocal())},\n",
       " {'MetricName': 'train:auc',\n",
       "  'Value': 0.7948939800262451,\n",
       "  'Timestamp': datetime.datetime(2023, 2, 18, 18, 25, 59, tzinfo=tzlocal())},\n",
       " {'MetricName': 'ObjectiveMetric',\n",
       "  'Value': 0.820264995098114,\n",
       "  'Timestamp': datetime.datetime(2023, 2, 18, 18, 25, 59, tzinfo=tzlocal())}]"
      ]
     },
     "execution_count": 33,
     "metadata": {},
     "output_type": "execute_result"
    }
   ],
   "source": [
    "boto3.client('sagemaker').describe_training_job(TrainingJobName=tuner.best_training_job())['FinalMetricDataList']"
   ]
  },
  {
   "cell_type": "code",
   "execution_count": 38,
   "metadata": {},
   "outputs": [],
   "source": [
    "#modeltuner.best_training_job()\n",
    "#boto3.client('sagemaker').describe_training_job(TrainingJobName=tuner.best_training_job())"
   ]
  },
  {
   "cell_type": "code",
   "execution_count": null,
   "metadata": {},
   "outputs": [],
   "source": [
    "#xgb_predictor = xgb.deploy(initial_instance_count=1, instance_type='ml.m4.xlarge')\n",
    "xgb_predictor = tuner.deploy(initial_instance_count=1, instance_type=\"ml.m4.xlarge\") "
   ]
  },
  {
   "cell_type": "code",
   "execution_count": null,
   "metadata": {},
   "outputs": [],
   "source": [
    "import sys\n",
    "xgb_predictor.serializer = sagemaker.serializers.CSVSerializer()\n",
    "\n",
    "predictionsT = xgb_predictor.predict(cleaned_test_data.to_numpy()).decode('utf-8')\n",
    "\n",
    "#print(predictionsT)\n",
    "\n",
    "predictions = np.fromstring(predictionsT[1:], sep='\\r\\n')"
   ]
  }
 ],
 "metadata": {
  "instance_type": "ml.t3.medium",
  "kernelspec": {
   "display_name": "Python 3 (Data Science)",
   "language": "python",
   "name": "python3__SAGEMAKER_INTERNAL__arn:aws:sagemaker:us-east-2:429704687514:image/datascience-1.0"
  },
  "language_info": {
   "codemirror_mode": {
    "name": "ipython",
    "version": 3
   },
   "file_extension": ".py",
   "mimetype": "text/x-python",
   "name": "python",
   "nbconvert_exporter": "python",
   "pygments_lexer": "ipython3",
   "version": "3.7.10"
  }
 },
 "nbformat": 4,
 "nbformat_minor": 4
}
